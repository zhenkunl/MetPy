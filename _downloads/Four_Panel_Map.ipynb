{
  "cells": [
    {
      "cell_type": "code",
      "execution_count": null,
      "metadata": {
        "collapsed": false
      },
      "outputs": [],
      "source": [
        "%matplotlib inline"
      ]
    },
    {
      "cell_type": "markdown",
      "metadata": {},
      "source": [
        "\nFour Panel Map\n===============\n\nBy reading model output data from a netCDF file, we can create a four panel plot showing:\n\n* 300 hPa heights and winds\n* 500 hPa heights and absolute vorticity\n* Surface temperatures\n* Precipitable water\n\n"
      ]
    },
    {
      "cell_type": "code",
      "execution_count": null,
      "metadata": {
        "collapsed": false
      },
      "outputs": [],
      "source": [
        "import cartopy.crs as ccrs\nimport cartopy.feature as cfeature\nimport matplotlib.gridspec as gridspec\nimport matplotlib.pyplot as plt\nimport netCDF4\nimport numpy as np\nimport scipy.ndimage as ndimage\n\nfrom metpy.cbook import get_test_data\nfrom metpy.units import units"
      ]
    },
    {
      "cell_type": "code",
      "execution_count": null,
      "metadata": {
        "collapsed": false
      },
      "outputs": [],
      "source": [
        "# Make state boundaries feature\nstates_provinces = cfeature.NaturalEarthFeature(category='cultural',\n                                                name='admin_1_states_provinces_lines',\n                                                scale='50m', facecolor='none')\n\n# Make country borders feature\ncountry_borders = cfeature.NaturalEarthFeature(category='cultural',\n                                               name='admin_0_countries',\n                                               scale='50m', facecolor='none')\n\ncrs = ccrs.LambertConformal(central_longitude=-100.0, central_latitude=45.0)"
      ]
    },
    {
      "cell_type": "code",
      "execution_count": null,
      "metadata": {
        "collapsed": false
      },
      "outputs": [],
      "source": [
        "# Function used to create the map subplots\ndef plot_background(ax):\n    ax.set_extent([235., 290., 20., 55.])\n    ax.coastlines('50m', edgecolor='black', linewidth=0.5)\n    ax.add_feature(states_provinces, edgecolor='black', linewidth=0.5)\n    ax.add_feature(country_borders, edgecolor='black', linewidth=0.5)\n    return ax"
      ]
    },
    {
      "cell_type": "code",
      "execution_count": null,
      "metadata": {
        "collapsed": false
      },
      "outputs": [],
      "source": [
        "# Open the example netCDF data\nds = netCDF4.Dataset(get_test_data('gfs_output.nc', False))\nprint(ds)"
      ]
    },
    {
      "cell_type": "code",
      "execution_count": null,
      "metadata": {
        "collapsed": false
      },
      "outputs": [],
      "source": [
        "# Convert number of hours since the reference time into an actual date\ntime_vals = netCDF4.num2date(ds.variables['time'][:].squeeze(), ds.variables['time'].units)"
      ]
    },
    {
      "cell_type": "code",
      "execution_count": null,
      "metadata": {
        "collapsed": false
      },
      "outputs": [],
      "source": [
        "# Combine 1D latitude and longitudes into a 2D grid of locations\nlon_2d, lat_2d = np.meshgrid(ds.variables['lon'][:], ds.variables['lat'][:])"
      ]
    },
    {
      "cell_type": "code",
      "execution_count": null,
      "metadata": {
        "collapsed": false
      },
      "outputs": [],
      "source": [
        "# Assign units\nvort_500 = ds.variables['vort_500'][0] * units(ds.variables['vort_500'].units)\nsurface_temp = ds.variables['temp'][0] * units(ds.variables['temp'].units)\nprecip_water = ds.variables['precip_water'][0] * units(ds.variables['precip_water'].units)\nwinds_300 = ds.variables['winds_300'][0] * units(ds.variables['winds_300'].units)"
      ]
    },
    {
      "cell_type": "code",
      "execution_count": null,
      "metadata": {
        "collapsed": false
      },
      "outputs": [],
      "source": [
        "# Do unit conversions to what we wish to plot\nvort_500 = vort_500 * 1e5\nsurface_temp = surface_temp.to('degF')\nprecip_water = precip_water.to('inches')\nwinds_300 = winds_300.to('knots')"
      ]
    },
    {
      "cell_type": "code",
      "execution_count": null,
      "metadata": {
        "collapsed": false
      },
      "outputs": [],
      "source": [
        "# Smooth the height data\nheights_300 = ndimage.gaussian_filter(ds.variables['heights_300'][0], sigma=1.5, order=0)\nheights_500 = ndimage.gaussian_filter(ds.variables['heights_500'][0], sigma=1.5, order=0)"
      ]
    },
    {
      "cell_type": "code",
      "execution_count": null,
      "metadata": {
        "collapsed": false
      },
      "outputs": [],
      "source": [
        "# Create the figure\nfig = plt.figure(figsize=(20, 15))\ngs = gridspec.GridSpec(5, 2, height_ratios=[1, .05, 1, .05, 0], bottom=.05, top=.95, wspace=.1)\n\n# Upper left plot - 300-hPa winds and geopotential heights\nax1 = plt.subplot(gs[0, 0], projection=crs)\nplot_background(ax1)\ncf1 = ax1.contourf(lon_2d, lat_2d, winds_300, cmap='cool', transform=ccrs.PlateCarree())\nc1 = ax1.contour(lon_2d, lat_2d, heights_300, colors='black', linewidth=2,\n                 transform=ccrs.PlateCarree())\nplt.clabel(c1, fontsize=10, inline=1, inline_spacing=1, fmt='%i', rightside_up=True)\n\nax2 = plt.subplot(gs[1, 0])\ncb1 = plt.colorbar(cf1, cax=ax2, orientation='horizontal')\ncb1.set_label('knots', size='x-large')\nax1.set_title('300-hPa Wind Speeds and Heights', fontsize=16)\n\n# Upper right plot - 500mb absolute vorticity and geopotential heights\nax3 = plt.subplot(gs[0, 1], projection=crs)\nplot_background(ax3)\ncf2 = ax3.contourf(lon_2d, lat_2d, vort_500, cmap='BrBG', transform=ccrs.PlateCarree(),\n                   zorder=0, norm=plt.Normalize(-32, 32), latlon=True)\nc2 = ax3.contour(lon_2d, lat_2d, heights_500, colors='k', lw=2, transform=ccrs.PlateCarree())\nplt.clabel(c2, fontsize=10, inline=1, inline_spacing=1, fmt='%i', rightside_up=True)\n\nax4 = plt.subplot(gs[1, 1])\ncb2 = plt.colorbar(cf2, cax=ax4, orientation='horizontal')\ncb2.set_label(r'$10^{-5}$ s$^{-1}$', size='x-large')\nax3.set_title('500-hPa Absolute Vorticity and Heights', fontsize=16)\n\n# Lower left plot - surface temperatures\nax5 = plt.subplot(gs[2, 0], projection=crs)\nplot_background(ax5)\ncf3 = ax5.contourf(lon_2d, lat_2d, surface_temp, cmap='YlOrRd',\n                   transform=ccrs.PlateCarree(), zorder=0)\n\nax6 = plt.subplot(gs[3, 0])\ncb3 = plt.colorbar(cf3, cax=ax6, orientation='horizontal')\ncb3.set_label(u'\\N{DEGREE FAHRENHEIT}', size='x-large')\nax5.set_title('Surface Temperatures', fontsize=16)\n\n# Lower right plot - precipitable water entire atmosphere\nax7 = plt.subplot(gs[2, 1], projection=crs)\nplot_background(ax7)\ncf4 = plt.contourf(lon_2d, lat_2d, precip_water, cmap='Greens',\n                   transform=ccrs.PlateCarree(), zorder=0)\n\nax8 = plt.subplot(gs[3, 1])\ncb4 = plt.colorbar(cf4, cax=ax8, orientation='horizontal')\ncb4.set_label('in.', size='x-large')\nax7.set_title('Precipitable Water', fontsize=16)\n\nfig.suptitle('{0:%d %B %Y %H:%MZ}'.format(time_vals), fontsize=24)\n\n# Display the plot\nplt.show()"
      ]
    }
  ],
  "metadata": {
    "kernelspec": {
      "display_name": "Python 3",
      "language": "python",
      "name": "python3"
    },
    "language_info": {
      "codemirror_mode": {
        "name": "ipython",
        "version": 3
      },
      "file_extension": ".py",
      "mimetype": "text/x-python",
      "name": "python",
      "nbconvert_exporter": "python",
      "pygments_lexer": "ipython3",
      "version": "3.6.0"
    }
  },
  "nbformat": 4,
  "nbformat_minor": 0
}