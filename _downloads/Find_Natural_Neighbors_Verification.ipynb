{
  "cells": [
    {
      "cell_type": "code",
      "execution_count": null,
      "metadata": {
        "collapsed": false
      },
      "outputs": [],
      "source": [
        "%matplotlib inline"
      ]
    },
    {
      "cell_type": "markdown",
      "metadata": {},
      "source": [
        "\nFind Natural Neighbors Verification\n===================================\n\nFinding natural neighbors in a triangulation\n\nA triangle is a natural neighbor of a point if that point is within a circumradius of the\ncircumcenter of a circumscribed circle containing the triangle.\n\n"
      ]
    },
    {
      "cell_type": "code",
      "execution_count": null,
      "metadata": {
        "collapsed": false
      },
      "outputs": [],
      "source": [
        "import matplotlib.pyplot as plt\nimport numpy as np\nfrom scipy.spatial import Delaunay\n\nfrom metpy.gridding.triangles import find_natural_neighbors\n\n# Create test observations, test points, and plot the triangulation and points.\ngx, gy = np.meshgrid(np.arange(0, 20, 4), np.arange(0, 20, 4))\npts = np.vstack([gx.ravel(), gy.ravel()]).T\ntri = Delaunay(pts)\n\nfig = plt.figure(figsize=(15, 10))\nfor i, inds in enumerate(tri.simplices):\n    pts = tri.points[inds]\n    x, y = np.vstack((pts, pts[0])).T\n    plt.plot(x, y)\n    plt.annotate(i, xy=(np.mean(x), np.mean(y)))\n\ntest_points = np.array([[2, 2], [5, 10], [12, 13.4], [12, 8], [20, 20]])\n\nfor i, (x, y) in enumerate(test_points):\n    plt.plot(x, y, 'k.', markersize=6)\n    plt.annotate('test ' + str(i), xy=(x, y))"
      ]
    },
    {
      "cell_type": "markdown",
      "metadata": {},
      "source": [
        "Since finding natural neighbors already calculates circumcenters and circumradii, return\nthat information for later use.\n\nThe key of the neighbors dictionary refers to the test point index, and the list of integers\nare the triangles that are natural neighbors of that particular test point.\n\nSince point 4 is far away from the triangulation, it has no natural neighbors.\nPoint 3 is at the confluence of several triangles so it has many natural neighbors.\n\n"
      ]
    },
    {
      "cell_type": "code",
      "execution_count": null,
      "metadata": {
        "collapsed": false
      },
      "outputs": [],
      "source": [
        "neighbors, tri_info = find_natural_neighbors(tri, test_points)\nprint(neighbors)"
      ]
    },
    {
      "cell_type": "markdown",
      "metadata": {},
      "source": [
        "We can then use the information in tri_info later.\n\nThe dictionary key is the index of a particular triangle in the Delaunay triangulation data\nstructure. 'cc' is that triangle's circumcenter, and 'r' is the radius of the circumcircle\ncontaining that triangle.\n\n"
      ]
    },
    {
      "cell_type": "code",
      "execution_count": null,
      "metadata": {
        "collapsed": false
      },
      "outputs": [],
      "source": [
        "fig = plt.figure(figsize=(15, 10))\nfor i, inds in enumerate(tri.simplices):\n    pts = tri.points[inds]\n    x, y = np.vstack((pts, pts[0])).T\n    plt.plot(x, y)\n    plt.annotate(i, xy=(np.mean(x), np.mean(y)))\n\n# Using circumcenter and radius information from tri_info, plot circumcircles and\n# circumcenters for each triangle.\nfor _idx, item in tri_info.items():\n    plt.plot(item['cc'][0], item['cc'][1], 'k.', markersize=5)\n    circ = plt.Circle(item['cc'], item['r'], edgecolor='k', facecolor='none',\n                      transform=fig.axes[0].transData)\n    fig.axes[0].add_artist(circ)\n\nplt.axes().set_aspect('equal', 'datalim')\n\nplt.show()"
      ]
    }
  ],
  "metadata": {
    "kernelspec": {
      "display_name": "Python 3",
      "language": "python",
      "name": "python3"
    },
    "language_info": {
      "codemirror_mode": {
        "name": "ipython",
        "version": 3
      },
      "file_extension": ".py",
      "mimetype": "text/x-python",
      "name": "python",
      "nbconvert_exporter": "python",
      "pygments_lexer": "ipython3",
      "version": "3.6.0"
    }
  },
  "nbformat": 4,
  "nbformat_minor": 0
}