{
  "cells": [
    {
      "cell_type": "code",
      "execution_count": null,
      "metadata": {
        "collapsed": false
      },
      "outputs": [],
      "source": [
        "%matplotlib inline"
      ]
    },
    {
      "cell_type": "markdown",
      "metadata": {},
      "source": [
        "\nStation Plot\n============\n\nMake a station plot, complete with sky cover and weather symbols.\n\nThe station plot itself is pretty straightforward, but there is a bit of code to perform the\ndata-wrangling (hopefully that situation will improve in the future). Certainly, if you have\nexisting point data in a format you can work with trivially, the station plot will be simple.\n\n"
      ]
    },
    {
      "cell_type": "code",
      "execution_count": null,
      "metadata": {
        "collapsed": false
      },
      "outputs": [],
      "source": [
        "import cartopy.crs as ccrs\nimport cartopy.feature as feat\nimport matplotlib.pyplot as plt\nimport numpy as np\n\nfrom metpy.calc import get_wind_components\nfrom metpy.cbook import get_test_data\nfrom metpy.plots import StationPlot\nfrom metpy.plots.wx_symbols import current_weather, sky_cover\nfrom metpy.units import units"
      ]
    },
    {
      "cell_type": "markdown",
      "metadata": {},
      "source": [
        "The setup\n---------\n\nFirst read in the data. We use `numpy.loadtxt` to read in the data and use a structured\n`numpy.dtype` to allow different types for the various columns. This allows us to handle\nthe columns with string data.\n\n"
      ]
    },
    {
      "cell_type": "code",
      "execution_count": null,
      "metadata": {
        "collapsed": false
      },
      "outputs": [],
      "source": [
        "f = get_test_data('station_data.txt')\n\nall_data = np.loadtxt(f, skiprows=1, delimiter=',',\n                      usecols=(1, 2, 3, 4, 5, 6, 7, 17, 18, 19),\n                      dtype=np.dtype([('stid', '3S'), ('lat', 'f'), ('lon', 'f'),\n                                      ('slp', 'f'), ('air_temperature', 'f'),\n                                      ('cloud_fraction', 'f'), ('dew_point_temperature', 'f'),\n                                      ('weather', '16S'),\n                                      ('wind_dir', 'f'), ('wind_speed', 'f')]))"
      ]
    },
    {
      "cell_type": "markdown",
      "metadata": {},
      "source": [
        "This sample data has *way* too many stations to plot all of them. Instead, we just select\na few from around the U.S. and pull those out of the data file.\n\n"
      ]
    },
    {
      "cell_type": "code",
      "execution_count": null,
      "metadata": {
        "collapsed": false
      },
      "outputs": [],
      "source": [
        "# Get the full list of stations in the data\nall_stids = [s.decode('ascii') for s in all_data['stid']]\n\n# Pull out these specific stations\nwhitelist = ['OKC', 'ICT', 'GLD', 'MEM', 'BOS', 'MIA', 'MOB', 'ABQ', 'PHX', 'TTF',\n             'ORD', 'BIL', 'BIS', 'CPR', 'LAX', 'ATL', 'MSP', 'SLC', 'DFW', 'NYC', 'PHL',\n             'PIT', 'IND', 'OLY', 'SYR', 'LEX', 'CHS', 'TLH', 'HOU', 'GJT', 'LBB', 'LSV',\n             'GRB', 'CLT', 'LNK', 'DSM', 'BOI', 'FSD', 'RAP', 'RIC', 'JAN', 'HSV', 'CRW',\n             'SAT', 'BUY', '0CO', 'ZPC', 'VIH']\n\n# Loop over all the whitelisted sites, grab the first data, and concatenate them\ndata = np.concatenate([all_data[all_stids.index(site)].reshape(1,) for site in whitelist])"
      ]
    },
    {
      "cell_type": "markdown",
      "metadata": {},
      "source": [
        "Now that we have the data we want, we need to perform some conversions:\n\n- Get a list of strings for the station IDs\n- Get wind components from speed and direction\n- Convert cloud fraction values to integer codes [0 - 8]\n- Map METAR weather codes to WMO codes for weather symbols\n\n"
      ]
    },
    {
      "cell_type": "code",
      "execution_count": null,
      "metadata": {
        "collapsed": false
      },
      "outputs": [],
      "source": [
        "# Get all of the station IDs as a list of strings\nstid = [s.decode('ascii') for s in data['stid']]\n\n# Get the wind components, converting from m/s to knots as will be appropriate\n# for the station plot\nu, v = get_wind_components((data['wind_speed'] * units('m/s')).to('knots'),\n                           data['wind_dir'] * units.degree)\n\n# Convert the fraction value into a code of 0-8, which can be used to pull out\n# the appropriate symbol\ncloud_frac = (8 * data['cloud_fraction']).astype(int)\n\n# Map weather strings to WMO codes, which we can use to convert to symbols\n# Only use the first symbol if there are multiple\nwx_text = [s.decode('ascii') for s in data['weather']]\nwx_codes = {'': 0, 'HZ': 5, 'BR': 10, '-DZ': 51, 'DZ': 53, '+DZ': 55,\n            '-RA': 61, 'RA': 63, '+RA': 65, '-SN': 71, 'SN': 73, '+SN': 75}\nwx = [wx_codes[s.split()[0] if ' ' in s else s] for s in wx_text]"
      ]
    },
    {
      "cell_type": "markdown",
      "metadata": {},
      "source": [
        "Now all the data wrangling is finished, just need to set up plotting and go\nSet up the map projection and set up a cartopy feature for state borders\n\n"
      ]
    },
    {
      "cell_type": "code",
      "execution_count": null,
      "metadata": {
        "collapsed": false
      },
      "outputs": [],
      "source": [
        "proj = ccrs.LambertConformal(central_longitude=-95, central_latitude=35,\n                             standard_parallels=[35])\nstate_boundaries = feat.NaturalEarthFeature(category='cultural',\n                                            name='admin_1_states_provinces_lines',\n                                            scale='110m', facecolor='none')"
      ]
    },
    {
      "cell_type": "markdown",
      "metadata": {},
      "source": [
        "The payoff\n----------\n\n"
      ]
    },
    {
      "cell_type": "code",
      "execution_count": null,
      "metadata": {
        "collapsed": false
      },
      "outputs": [],
      "source": [
        "# Change the DPI of the resulting figure. Higher DPI drastically improves the\n# look of the text rendering\nplt.rcParams['savefig.dpi'] = 255\n\n# Create the figure and an axes set to the projection\nfig = plt.figure(figsize=(20, 10))\nax = fig.add_subplot(1, 1, 1, projection=proj)\n\n# Add some various map elements to the plot to make it recognizable\nax.add_feature(feat.LAND, zorder=-1)\nax.add_feature(feat.OCEAN, zorder=-1)\nax.add_feature(feat.LAKES, zorder=-1)\nax.coastlines(resolution='110m', zorder=2, color='black')\nax.add_feature(state_boundaries, edgecolor='black')\nax.add_feature(feat.BORDERS, linewidth='2', edgecolor='black')\n\n# Set plot bounds\nax.set_extent((-118, -73, 23, 50))\n\n#\n# Here's the actual station plot\n#\n\n# Start the station plot by specifying the axes to draw on, as well as the\n# lon/lat of the stations (with transform). We also the fontsize to 12 pt.\nstationplot = StationPlot(ax, data['lon'], data['lat'], transform=ccrs.PlateCarree(),\n                          fontsize=12)\n\n# Plot the temperature and dew point to the upper and lower left, respectively, of\n# the center point. Each one uses a different color.\nstationplot.plot_parameter('NW', data['air_temperature'], color='red')\nstationplot.plot_parameter('SW', data['dew_point_temperature'], color='darkgreen')\n\n# A more complex example uses a custom formatter to control how the sea-level pressure\n# values are plotted. This uses the standard trailing 3-digits of the pressure value\n# in tenths of millibars.\nstationplot.plot_parameter('NE', data['slp'],\n                           formatter=lambda v: format(10 * v, '.0f')[-3:])\n\n# Plot the cloud cover symbols in the center location. This uses the codes made above and\n# uses the `sky_cover` mapper to convert these values to font codes for the\n# weather symbol font.\nstationplot.plot_symbol('C', cloud_frac, sky_cover)\n\n# Same this time, but plot current weather to the left of center, using the\n# `current_weather` mapper to convert symbols to the right glyphs.\nstationplot.plot_symbol('W', wx, current_weather)\n\n# Add wind barbs\nstationplot.plot_barb(u, v)\n\n# Also plot the actual text of the station id. Instead of cardinal directions,\n# plot further out by specifying a location of 2 increments in x and 0 in y.\nstationplot.plot_text((2, 0), stid)\n\nplt.show()"
      ]
    }
  ],
  "metadata": {
    "kernelspec": {
      "display_name": "Python 3",
      "language": "python",
      "name": "python3"
    },
    "language_info": {
      "codemirror_mode": {
        "name": "ipython",
        "version": 3
      },
      "file_extension": ".py",
      "mimetype": "text/x-python",
      "name": "python",
      "nbconvert_exporter": "python",
      "pygments_lexer": "ipython3",
      "version": "3.6.0"
    }
  },
  "nbformat": 4,
  "nbformat_minor": 0
}