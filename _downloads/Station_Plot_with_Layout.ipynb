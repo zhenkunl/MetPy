{
  "cells": [
    {
      "cell_type": "code",
      "execution_count": null,
      "metadata": {
        "collapsed": false
      },
      "outputs": [],
      "source": [
        "%matplotlib inline"
      ]
    },
    {
      "cell_type": "markdown",
      "metadata": {},
      "source": [
        "\nStation Plot with Layout\n========================\n\nMake a station plot, complete with sky cover and weather symbols, using a\nstation plot layout built into MetPy.\n\nThe station plot itself is straightforward, but there is a bit of code to perform the\ndata-wrangling (hopefully that situation will improve in the future). Certainly, if you have\nexisting point data in a format you can work with trivially, the station plot will be simple.\n\nThe `StationPlotLayout` class is used to standardize the plotting various parameters\n(i.e. temperature), keeping track of the location, formatting, and even the units for use in\nthe station plot. This makes it easy (if using standardized names) to re-use a given layout\nof a station plot.\n\n"
      ]
    },
    {
      "cell_type": "code",
      "execution_count": null,
      "metadata": {
        "collapsed": false
      },
      "outputs": [],
      "source": [
        "import cartopy.crs as ccrs\nimport cartopy.feature as feat\nimport matplotlib.pyplot as plt\nimport numpy as np\n\nfrom metpy.calc import get_wind_components\nfrom metpy.cbook import get_test_data\nfrom metpy.plots import simple_layout, StationPlot, StationPlotLayout\nfrom metpy.units import units"
      ]
    },
    {
      "cell_type": "markdown",
      "metadata": {},
      "source": [
        "The setup\n---------\n\nFirst read in the data. We use `numpy.loadtxt` to read in the data and use a structured\n`numpy.dtype` to allow different types for the various columns. This allows us to handle\nthe columns with string data.\n\n"
      ]
    },
    {
      "cell_type": "code",
      "execution_count": null,
      "metadata": {
        "collapsed": false
      },
      "outputs": [],
      "source": [
        "f = get_test_data('station_data.txt')\nall_data = np.loadtxt(f, skiprows=1, delimiter=',',\n                      usecols=(1, 2, 3, 4, 5, 6, 7, 17, 18, 19),\n                      dtype=np.dtype([('stid', '3S'), ('lat', 'f'), ('lon', 'f'),\n                                      ('slp', 'f'), ('air_temperature', 'f'),\n                                      ('cloud_fraction', 'f'), ('dew_point_temperature', 'f'),\n                                      ('weather', '16S'),\n                                      ('wind_dir', 'f'), ('wind_speed', 'f')]))"
      ]
    },
    {
      "cell_type": "markdown",
      "metadata": {},
      "source": [
        "This sample data has *way* too many stations to plot all of them. Instead, we just select\na few from around the U.S. and pull those out of the data file.\n\n"
      ]
    },
    {
      "cell_type": "code",
      "execution_count": null,
      "metadata": {
        "collapsed": false
      },
      "outputs": [],
      "source": [
        "# Get the full list of stations in the data\nall_stids = [s.decode('ascii') for s in all_data['stid']]\n\n# Pull out these specific stations\nwhitelist = ['OKC', 'ICT', 'GLD', 'MEM', 'BOS', 'MIA', 'MOB', 'ABQ', 'PHX', 'TTF',\n             'ORD', 'BIL', 'BIS', 'CPR', 'LAX', 'ATL', 'MSP', 'SLC', 'DFW', 'NYC', 'PHL',\n             'PIT', 'IND', 'OLY', 'SYR', 'LEX', 'CHS', 'TLH', 'HOU', 'GJT', 'LBB', 'LSV',\n             'GRB', 'CLT', 'LNK', 'DSM', 'BOI', 'FSD', 'RAP', 'RIC', 'JAN', 'HSV', 'CRW',\n             'SAT', 'BUY', '0CO', 'ZPC', 'VIH']\n\n# Loop over all the whitelisted sites, grab the first data, and concatenate them\ndata_arr = np.concatenate([all_data[all_stids.index(site)].reshape(1,) for site in whitelist])\n\n# First, look at the names of variables that the layout is expecting:\nsimple_layout.names()"
      ]
    },
    {
      "cell_type": "markdown",
      "metadata": {},
      "source": [
        "Next grab the simple variables out of the data we have (attaching correct units), and\nput them into a dictionary that we will hand the plotting function later:\n\n"
      ]
    },
    {
      "cell_type": "code",
      "execution_count": null,
      "metadata": {
        "collapsed": false
      },
      "outputs": [],
      "source": [
        "# This is our container for the data\ndata = dict()\n\n# Copy out to stage everything together. In an ideal world, this would happen on\n# the data reading side of things, but we're not there yet.\ndata['longitude'] = data_arr['lon']\ndata['latitude'] = data_arr['lat']\ndata['air_temperature'] = data_arr['air_temperature'] * units.degC\ndata['dew_point_temperature'] = data_arr['dew_point_temperature'] * units.degC\ndata['air_pressure_at_sea_level'] = data_arr['slp'] * units('mbar')"
      ]
    },
    {
      "cell_type": "markdown",
      "metadata": {},
      "source": [
        "Notice that the names (the keys) in the dictionary are the same as those that the\nlayout is expecting.\n\nNow perform a few conversions:\n\n- Get wind components from speed and direction\n- Convert cloud fraction values to integer codes [0 - 8]\n- Map METAR weather codes to WMO codes for weather symbols\n\n"
      ]
    },
    {
      "cell_type": "code",
      "execution_count": null,
      "metadata": {
        "collapsed": false
      },
      "outputs": [],
      "source": [
        "# Get the wind components, converting from m/s to knots as will be appropriate\n# for the station plot\nu, v = get_wind_components(data_arr['wind_speed'] * units('m/s'),\n                           data_arr['wind_dir'] * units.degree)\ndata['eastward_wind'], data['northward_wind'] = u, v\n\n# Convert the fraction value into a code of 0-8, which can be used to pull out\n# the appropriate symbol\ndata['cloud_coverage'] = (8 * data_arr['cloud_fraction']).astype(int)\n\n# Map weather strings to WMO codes, which we can use to convert to symbols\n# Only use the first symbol if there are multiple\nwx_text = [s.decode('ascii') for s in data_arr['weather']]\nwx_codes = {'': 0, 'HZ': 5, 'BR': 10, '-DZ': 51, 'DZ': 53, '+DZ': 55,\n            '-RA': 61, 'RA': 63, '+RA': 65, '-SN': 71, 'SN': 73, '+SN': 75}\ndata['present_weather'] = [wx_codes[s.split()[0] if ' ' in s else s] for s in wx_text]"
      ]
    },
    {
      "cell_type": "markdown",
      "metadata": {},
      "source": [
        "All the data wrangling is finished, just need to set up plotting and go:\nSet up the map projection and set up a cartopy feature for state borders\n\n"
      ]
    },
    {
      "cell_type": "code",
      "execution_count": null,
      "metadata": {
        "collapsed": false
      },
      "outputs": [],
      "source": [
        "proj = ccrs.LambertConformal(central_longitude=-95, central_latitude=35,\n                             standard_parallels=[35])\nstate_boundaries = feat.NaturalEarthFeature(category='cultural',\n                                            name='admin_1_states_provinces_lines',\n                                            scale='110m', facecolor='none')"
      ]
    },
    {
      "cell_type": "markdown",
      "metadata": {},
      "source": [
        "The payoff\n----------\n\n"
      ]
    },
    {
      "cell_type": "code",
      "execution_count": null,
      "metadata": {
        "collapsed": false
      },
      "outputs": [],
      "source": [
        "# Change the DPI of the resulting figure. Higher DPI drastically improves the\n# look of the text rendering\nplt.rcParams['savefig.dpi'] = 255\n\n# Create the figure and an axes set to the projection\nfig = plt.figure(figsize=(20, 10))\nax = fig.add_subplot(1, 1, 1, projection=proj)\n\n# Add some various map elements to the plot to make it recognizable\nax.add_feature(feat.LAND, zorder=-1)\nax.add_feature(feat.OCEAN, zorder=-1)\nax.add_feature(feat.LAKES, zorder=-1)\nax.coastlines(resolution='110m', zorder=2, color='black')\nax.add_feature(state_boundaries, edgecolor='black')\nax.add_feature(feat.BORDERS, linewidth='2', edgecolor='black')\n\n# Set plot bounds\nax.set_extent((-118, -73, 23, 50))\n\n#\n# Here's the actual station plot\n#\n\n# Start the station plot by specifying the axes to draw on, as well as the\n# lon/lat of the stations (with transform). We also the fontsize to 12 pt.\nstationplot = StationPlot(ax, data['longitude'], data['latitude'],\n                          transform=ccrs.PlateCarree(), fontsize=12)\n\n# The layout knows where everything should go, and things are standardized using\n# the names of variables. So the layout pulls arrays out of `data` and plots them\n# using `stationplot`.\nsimple_layout.plot(stationplot, data)\n\nplt.show()"
      ]
    },
    {
      "cell_type": "markdown",
      "metadata": {},
      "source": [
        "or instead, a custom layout can be used:\n\n"
      ]
    },
    {
      "cell_type": "code",
      "execution_count": null,
      "metadata": {
        "collapsed": false
      },
      "outputs": [],
      "source": [
        "# Just winds, temps, and dewpoint, with colors. Dewpoint and temp will be plotted\n# out to Farenheit tenths. Extra data will be ignored\ncustom_layout = StationPlotLayout()\ncustom_layout.add_barb('eastward_wind', 'northward_wind', units='knots')\ncustom_layout.add_value('NW', 'air_temperature', fmt='.1f', units='degF', color='darkred')\ncustom_layout.add_value('SW', 'dew_point_temperature', fmt='.1f', units='degF',\n                        color='darkgreen')\n\n# Also, we'll add a field that we don't have in our dataset. This will be ignored\ncustom_layout.add_value('E', 'precipitation', fmt='0.2f', units='inch', color='blue')\n\n# Create the figure and an axes set to the projection\nfig = plt.figure(figsize=(20, 10))\nax = fig.add_subplot(1, 1, 1, projection=proj)\n\n# Add some various map elements to the plot to make it recognizable\nax.add_feature(feat.LAND, zorder=-1)\nax.add_feature(feat.OCEAN, zorder=-1)\nax.add_feature(feat.LAKES, zorder=-1)\nax.coastlines(resolution='110m', zorder=2, color='black')\nax.add_feature(state_boundaries, edgecolor='black')\nax.add_feature(feat.BORDERS, linewidth='2', edgecolor='black')\n\n# Set plot bounds\nax.set_extent((-118, -73, 23, 50))\n\n#\n# Here's the actual station plot\n#\n\n# Start the station plot by specifying the axes to draw on, as well as the\n# lon/lat of the stations (with transform). We also the fontsize to 12 pt.\nstationplot = StationPlot(ax, data['longitude'], data['latitude'],\n                          transform=ccrs.PlateCarree(), fontsize=12)\n\n# The layout knows where everything should go, and things are standardized using\n# the names of variables. So the layout pulls arrays out of `data` and plots them\n# using `stationplot`.\ncustom_layout.plot(stationplot, data)\n\nplt.show()"
      ]
    }
  ],
  "metadata": {
    "kernelspec": {
      "display_name": "Python 3",
      "language": "python",
      "name": "python3"
    },
    "language_info": {
      "codemirror_mode": {
        "name": "ipython",
        "version": 3
      },
      "file_extension": ".py",
      "mimetype": "text/x-python",
      "name": "python",
      "nbconvert_exporter": "python",
      "pygments_lexer": "ipython3",
      "version": "3.6.0"
    }
  },
  "nbformat": 4,
  "nbformat_minor": 0
}